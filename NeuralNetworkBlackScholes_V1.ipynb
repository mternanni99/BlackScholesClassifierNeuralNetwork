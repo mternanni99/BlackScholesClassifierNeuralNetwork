{
 "cells": [
  {
   "cell_type": "code",
   "execution_count": 303,
   "id": "84abb00f",
   "metadata": {},
   "outputs": [],
   "source": [
    "from keras.models import Sequential\n",
    "from keras.layers import Dense\n",
    "from keras.callbacks import ModelCheckpoint,EarlyStopping"
   ]
  },
  {
   "cell_type": "code",
   "execution_count": 285,
   "id": "6ed13da4",
   "metadata": {},
   "outputs": [],
   "source": [
    "import requests\n",
    "from requests.auth import HTTPBasicAuth\n",
    "import pandas as pd\n",
    "from yahoo_fin import options\n",
    "import numpy as np\n",
    "import math\n",
    "from scipy.stats import norm\n",
    "import datetime\n",
    "from sklearn.model_selection import train_test_split\n",
    "import yahoo_fin.stock_info as si"
   ]
  },
  {
   "cell_type": "code",
   "execution_count": 242,
   "id": "83d2be01",
   "metadata": {},
   "outputs": [],
   "source": [
    "def blackScholes(spot_price,strike_price,risk_free_rate,time_to_maturity,volatility,option_type):\n",
    "    time_to_maturity = time_to_maturity/365\n",
    "    d1 = ((spot_price / strike_price).apply(math.log)+ (risk_free_rate + 0.5 * volatility**2) * time_to_maturity) / (volatility * (time_to_maturity.apply(math.sqrt)))\n",
    "    d2 = d1 - volatility * time_to_maturity.apply(math.sqrt)    \n",
    "    # Calculate option price\n",
    "    if option_type == 'call':\n",
    "        option_price = spot_price * d1.apply(norm.cdf) - strike_price * (-risk_free_rate * time_to_maturity).apply(math.exp) * d2.apply(norm.cdf)\n",
    "    else:\n",
    "        option_price = strike_price * (-risk_free_rate * time_to_maturity).apply(math.exp) * -d2.apply(norm.cdf) - spot_price * -d1.apply(norm.cdf)\n",
    "    return option_price\n",
    "\n",
    "def BlackScholesClassifier(bs_price,market_data_price):\n",
    "    if(abs(bs_price - market_data_price)/bs_price <=0.05): # Accurate\n",
    "        return 0\n",
    "    elif bs_price > market_data_price: # Overpriced\n",
    "        return 1\n",
    "    else: \n",
    "        return -1\n",
    "    \n",
    "def getAnnualVolatility(ticker):\n",
    "    yearlyPrices = si.get_data(ticker,start_date = pd.to_datetime(\"today\") - pd.offsets.DateOffset(years=1) ,end_date =pd.to_datetime(\"today\") )\n",
    "    yearReturns = yearlyPrices[\"close\"].pct_change()\n",
    "    dailyVolatility= yearReturns.std()\n",
    "    return math.sqrt(len(yearlyPrices))*dailyVolatility\n"
   ]
  },
  {
   "cell_type": "code",
   "execution_count": 213,
   "id": "0b01e837",
   "metadata": {},
   "outputs": [],
   "source": [
    "ticker = 'AAPL'\n",
    "interestRateOneYearUSTreasury = 0.05\n",
    "price = si.get_live_price(ticker)\n",
    "expirationDates = options.get_expiration_dates(ticker)\n"
   ]
  },
  {
   "cell_type": "code",
   "execution_count": 222,
   "id": "c5ea9e77",
   "metadata": {},
   "outputs": [],
   "source": [
    "liquidOptions = pd.DataFrame(columns=[\"Contract Name\",\"Last Trade Date\",\"Strike\",\"Last Price\",\"Bid\",\"Ask\",\"Change\",\"% Change\",\"Volume\",\"Open Interest\",\"Implied Volatility\",\"MaturityDate\",\"Today\",\"StockPrice\",\"Underlying\",\"AnnualVol\"])\n",
    "for optionExpiryDate in expirationDates:\n",
    "    callData = options.get_calls(ticker,date = optionExpiryDate)\n",
    "    callData = callData[ callData[\"Volume\"].apply(str).str.isnumeric() ]\n",
    "    callData[\"Volume\"] = callData[\"Volume\"].apply(int)\n",
    "    callData[\"Today\"] = pd.to_datetime(\"today\")\n",
    "    callData[\"StockPrice\"] = price\n",
    "    callData[\"AnnualVol\"] = getAnnualVolatility(ticker)\n",
    "    callData[\"MaturityDate\"] = pd.to_datetime(optionExpiryDate)\n",
    "    callData[\"Underlying\"] = ticker\n",
    "    totalVolume = sum(callData[\"Volume\"])\n",
    "    liquidOptions = pd.concat([liquidOptions,pd.DataFrame(callData[callData[\"Volume\"]/totalVolume >= 0.1],columns=liquidOptions.columns)])\n",
    "\n",
    "liquidOptions[\"TreasuryRate\"] = interestRateOneYearUSTreasury   \n",
    "liquidOptions[\"DaysToMaturity\"] = (liquidOptions[\"MaturityDate\"] - liquidOptions[\"Today\"])/np.timedelta64(1, 'D')\n",
    "liquidOptions[\"BSPrice\"]= blackScholes(liquidOptions[\"StockPrice\"],liquidOptions[\"Strike\"],liquidOptions[\"TreasuryRate\"],liquidOptions[\"DaysToMaturity\"],liquidOptions[\"AnnualVol\"],\"call\")\n",
    "#print(liquidOptions[[\"Underlying\",\"StockPrice\",\"Strike\",\"Volume\",\"DaysToMaturity\",\"AnnualVol\",\"BSPrice\",\"Last Price\"]])\n"
   ]
  },
  {
   "cell_type": "code",
   "execution_count": 243,
   "id": "ecb279ab",
   "metadata": {
    "collapsed": true
   },
   "outputs": [
    {
     "name": "stdout",
     "output_type": "stream",
     "text": [
      "   Underlying  StockPrice Strike  DaysToMaturity AnnualVol   BSPrice  \\\n",
      "14       AAPL  191.240005  190.0        4.213827  0.217207  2.530126   \n",
      "15       AAPL  191.240005  195.0        4.213827  0.217207  0.532533   \n",
      "31       AAPL  191.240005  190.0       11.213807  0.217207  3.722943   \n",
      "32       AAPL  191.240005  192.5       11.213807  0.217207  2.454919   \n",
      "33       AAPL  191.240005  195.0       11.213807  0.217207  1.519646   \n",
      "\n",
      "   Last Price RelativePriceDiff  isAccurate  \n",
      "14        2.4          0.051431           0  \n",
      "15       0.33           0.38032           0  \n",
      "31        3.3          0.113604           0  \n",
      "32       1.89          0.230117           0  \n",
      "33       0.96          0.368274           0  \n"
     ]
    }
   ],
   "source": [
    "liquidOptions[\"RelativePriceDiff\"] = (liquidOptions[\"Last Price\"] - liquidOptions[\"BSPrice\"]).apply(abs) / liquidOptions[\"BSPrice\"]\n",
    "liquidOptions[\"BSClassification\"] = liquidOptions.apply(lambda x : BlackScholesClassifier(x[\"BSPrice\"],x[\"Last Price\"]),axis=1)\n",
    "print(liquidOptions[[\"Underlying\",\"StockPrice\",\"Strike\",\"DaysToMaturity\",\"AnnualVol\",\"BSPrice\",\"Last Price\",\"RelativePriceDiff\",\"isAccurate\"]].head())"
   ]
  },
  {
   "cell_type": "code",
   "execution_count": 320,
   "id": "1d2104f0",
   "metadata": {},
   "outputs": [],
   "source": [
    "model = Sequential()\n",
    "\n",
    "model.add(Dense(128,input_shape=(5,)))\n",
    "\n",
    "model.add(Dense(64,activation=\"relu\"))\n",
    "\n",
    "model.add(Dense(32,activation=\"relu\"))\n",
    "\n",
    "model.add(Dense(3,activation=\"softmax\"))"
   ]
  },
  {
   "cell_type": "code",
   "execution_count": 329,
   "id": "ac161569",
   "metadata": {
    "collapsed": true
   },
   "outputs": [
    {
     "name": "stdout",
     "output_type": "stream",
     "text": [
      "Epoch 1/200\n",
      "2/2 [==============================] - 0s 65ms/step - loss: 1.7580 - accuracy: 0.8684 - val_loss: 1.0061 - val_accuracy: 0.9000\n",
      "Epoch 2/200\n",
      "2/2 [==============================] - 0s 10ms/step - loss: 1.0631 - accuracy: 0.8158 - val_loss: 2.0444 - val_accuracy: 0.8000\n",
      "Epoch 3/200\n",
      "2/2 [==============================] - 0s 17ms/step - loss: 2.2004 - accuracy: 0.7632 - val_loss: 0.5280 - val_accuracy: 0.9000\n",
      "Epoch 4/200\n",
      "2/2 [==============================] - 0s 17ms/step - loss: 0.2835 - accuracy: 0.9474 - val_loss: 0.1607 - val_accuracy: 0.9000\n",
      "Epoch 5/200\n",
      "2/2 [==============================] - 0s 10ms/step - loss: 0.9610 - accuracy: 0.8421 - val_loss: 0.5654 - val_accuracy: 0.9000\n",
      "Epoch 6/200\n",
      "2/2 [==============================] - 0s 11ms/step - loss: 0.3444 - accuracy: 0.9211 - val_loss: 1.5482 - val_accuracy: 0.9000\n",
      "Epoch 7/200\n",
      "2/2 [==============================] - 0s 11ms/step - loss: 0.5799 - accuracy: 0.8947 - val_loss: 2.0573 - val_accuracy: 0.8000\n",
      "Epoch 8/200\n",
      "2/2 [==============================] - 0s 10ms/step - loss: 0.9082 - accuracy: 0.8947 - val_loss: 1.8842 - val_accuracy: 0.9000\n",
      "Epoch 9/200\n",
      "2/2 [==============================] - 0s 11ms/step - loss: 0.6425 - accuracy: 0.8947 - val_loss: 1.5974 - val_accuracy: 0.9000\n",
      "Epoch 10/200\n",
      "2/2 [==============================] - 0s 11ms/step - loss: 0.2246 - accuracy: 0.9474 - val_loss: 1.1019 - val_accuracy: 0.9000\n",
      "Epoch 11/200\n",
      "2/2 [==============================] - 0s 11ms/step - loss: 0.3450 - accuracy: 0.9211 - val_loss: 0.5253 - val_accuracy: 0.9000\n",
      "Epoch 12/200\n",
      "2/2 [==============================] - 0s 11ms/step - loss: 0.2039 - accuracy: 0.9474 - val_loss: 0.2871 - val_accuracy: 0.9000\n",
      "Epoch 13/200\n",
      "2/2 [==============================] - 0s 10ms/step - loss: 0.4677 - accuracy: 0.8947 - val_loss: 0.2516 - val_accuracy: 0.9000\n",
      "Epoch 14/200\n",
      "2/2 [==============================] - 0s 11ms/step - loss: 1.4186 - accuracy: 0.8421 - val_loss: 0.2456 - val_accuracy: 0.9000\n",
      "Epoch 15/200\n",
      "2/2 [==============================] - 0s 11ms/step - loss: 0.6199 - accuracy: 0.8947 - val_loss: 0.2954 - val_accuracy: 0.9000\n",
      "Epoch 16/200\n",
      "2/2 [==============================] - 0s 11ms/step - loss: 0.0959 - accuracy: 0.9474 - val_loss: 0.4506 - val_accuracy: 0.9000\n",
      "Epoch 17/200\n",
      "2/2 [==============================] - 0s 10ms/step - loss: 0.6709 - accuracy: 0.8947 - val_loss: 0.8188 - val_accuracy: 0.9000\n",
      "Epoch 18/200\n",
      "2/2 [==============================] - 0s 11ms/step - loss: 0.5765 - accuracy: 0.8684 - val_loss: 1.2369 - val_accuracy: 0.9000\n",
      "Epoch 19/200\n",
      "2/2 [==============================] - 0s 11ms/step - loss: 0.3016 - accuracy: 0.8684 - val_loss: 1.4377 - val_accuracy: 0.9000\n",
      "Epoch 20/200\n",
      "2/2 [==============================] - 0s 10ms/step - loss: 0.8212 - accuracy: 0.8684 - val_loss: 1.1848 - val_accuracy: 0.9000\n",
      "Epoch 21/200\n",
      "2/2 [==============================] - 0s 10ms/step - loss: 0.2863 - accuracy: 0.9211 - val_loss: 0.6800 - val_accuracy: 0.9000\n",
      "Epoch 22/200\n",
      "2/2 [==============================] - 0s 11ms/step - loss: 1.1693 - accuracy: 0.8158 - val_loss: 0.4821 - val_accuracy: 0.9000\n",
      "Epoch 23/200\n",
      "2/2 [==============================] - 0s 11ms/step - loss: 1.5153 - accuracy: 0.7895 - val_loss: 0.6726 - val_accuracy: 0.9000\n",
      "Epoch 24/200\n",
      "2/2 [==============================] - 0s 11ms/step - loss: 0.0667 - accuracy: 0.9474 - val_loss: 0.9647 - val_accuracy: 0.9000\n"
     ]
    }
   ],
   "source": [
    "model.compile(optimizer=\"adam\",loss=\"categorical_crossentropy\",metrics=['accuracy'])\n",
    "model_input = liquidOptions[[\"StockPrice\",\"Strike\",\"DaysToMaturity\",\"TreasuryRate\",\"AnnualVol\"]]\n",
    "model_input = np.asarray(model_input_train).astype(np.float64)\n",
    "model_output = liquidOptions[\"BSClassification\"]\n",
    "model_output = pd.get_dummies(pd.Categorical(model_output))\n",
    "\n",
    "earlyStopping = EarlyStopping(monitor='val_loss',patience=20)\n",
    "modelToSave = ModelCheckpoint('best_model.keras',save_best_only=True) \n",
    "\n",
    "X_train, X_test, y_train, y_test = train_test_split(model_input, model_output, test_size=0.2)\n",
    "\n",
    "fittedModel = model.fit(X_train,y_train,epochs=200,validation_data=(X_test,y_test),callbacks=[earlyStopping,modelToSave])\n"
   ]
  },
  {
   "cell_type": "code",
   "execution_count": 335,
   "id": "33a50596",
   "metadata": {},
   "outputs": [
    {
     "name": "stdout",
     "output_type": "stream",
     "text": [
      "1/1 [==============================] - 0s 16ms/step - loss: 0.9647 - accuracy: 0.9000\n",
      "0.8999999761581421\n"
     ]
    }
   ],
   "source": [
    "accuracy = model.evaluate(X_test,y_test)[1]\n",
    "print(accuracy)"
   ]
  }
 ],
 "metadata": {
  "kernelspec": {
   "display_name": "Python 3 (ipykernel)",
   "language": "python",
   "name": "python3"
  },
  "language_info": {
   "codemirror_mode": {
    "name": "ipython",
    "version": 3
   },
   "file_extension": ".py",
   "mimetype": "text/x-python",
   "name": "python",
   "nbconvert_exporter": "python",
   "pygments_lexer": "ipython3",
   "version": "3.10.5"
  }
 },
 "nbformat": 4,
 "nbformat_minor": 5
}
